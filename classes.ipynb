{
 "cells": [
  {
   "cell_type": "code",
   "execution_count": 1,
   "metadata": {},
   "outputs": [],
   "source": [
    "import warnings\n",
    "warnings.simplefilter(action='ignore', category=FutureWarning)\n",
    "import pandas as pd\n",
    "pd.set_option('display.max_rows', None)\n",
    "pd.set_option('display.max_columns', None)\n",
    "import numpy as np\n",
    "from shutil import copy2 as copy\n",
    "from IPython.display import display, HTML\n",
    "from math import floor\n",
    "import json\n",
    "import re\n",
    "import os\n",
    "\n",
    "secrets = json.load(open('secrets.json'))\n",
    "game_version = secrets['game_version']\n",
    "os.makedirs(game_version, exist_ok=True)"
   ]
  },
  {
   "attachments": {},
   "cell_type": "markdown",
   "metadata": {},
   "source": [
    "# Awakening \"Player\" Classes"
   ]
  },
  {
   "cell_type": "code",
   "execution_count": null,
   "metadata": {},
   "outputs": [],
   "source": [
    "classes_meta = pd.read_csv(f'data/classes_meta.csv', sep='\\s*?,\\s*?', engine='python').fillna('')\n",
    "core_maxes = pd.read_csv('data/classes_core.csv')\n",
    "rank_stats = ['Str', \"Mag\", 'Skl', 'Spd', 'Def', 'Res']\n",
    "stats = ['Str', \"Mag\", 'Skl', 'Spd', 'Def', 'Res']\n",
    "\n",
    "core_maxes = core_maxes.merge(classes_meta.drop(rank_stats, axis=1), on='Class')\n",
    "def attack_stat(x):\n",
    "    if re.search('Reason|Faith|Dark|Staves', x):\n",
    "        if re.search('Swords|Bows|Lances|Axes|Stones', x):\n",
    "            return \"Dual\"\n",
    "        else: return 'Mag'\n",
    "    else: return 'Phys'\n",
    "core_maxes['Atk'] = core_maxes.Wield.apply(lambda x: attack_stat(x))\n",
    "\n",
    "class_tiers = core_maxes.loc[core_maxes['Rank']=='Advanced', 'Class'].to_frame()\n",
    "for x in stats:\n",
    "    class_tiers[x] = pd.cut(core_maxes.loc[core_maxes['Rank']=='Advanced',x], 5, retbins=True, labels=['E', 'D', 'C', 'B', 'A'])[0]\n",
    "class_data = class_tiers.merge(core_maxes[['Class', 'Atk', 'Wield', 'Rank', 'Tags']], on='Class')\n",
    "\n",
    "# # Dashes Str/Mag if the unit can't use a weapon of that type, Averages Dual type value to both.\n",
    "# def _func(x):\n",
    "#     if x.Atk == 'Mag': x['Str'] = '-'\n",
    "#     if x.Atk == 'Phys': x['Mag'] = '-'\n",
    "#     if x.Atk == 'Dual': \n",
    "#         x1 = {'E':1, 'D':2, 'C':3, 'B':4, 'A':5}[x['Str']]\n",
    "#         x2 = {'E':1, 'D':2, 'C':3, 'B':4, 'A':5}[x['Mag']]\n",
    "#         x['Str'] = {1:'E', 2:'D', 3:'C', 4:'B', 5:'A'}[round((x1+x2-1)/2)]\n",
    "#         x['Mag'] = {1:'E', 2:'D', 3:'C', 4:'B', 5:'A'}[round((x1+x2-1)/2)]\n",
    "#     return x\n",
    "# class_data = class_data.apply(lambda x: _func(x), axis=1).drop(['Atk'], axis=1)\n",
    "\n",
    "class_tiers['Total'] = class_tiers[stats].apply(lambda x: x.map({'-':0, 'E':1, 'D':2, 'C':3, 'B':4, 'A':5})).sum(axis=1)\n",
    "class_tiers.sort_values('Total')\n",
    "# same_stats = class_tiers.groupby(rank_stats)['Class'].apply(','.join).reset_index()\n",
    "# same_stats = same_stats[same_stats.Class.notnull()]\n",
    "# same_stats['Count'] = same_stats.Class.str.count(',')+1\n",
    "# same_stats"
   ]
  },
  {
   "cell_type": "code",
   "execution_count": null,
   "metadata": {},
   "outputs": [],
   "source": [
    "export = class_tiers.copy()\n",
    "export[\"Atk\"] = export.apply(lambda x: x.Mag if x.Mag != '-' else x.Str, axis=1)\n",
    "export['HP'] = 20\n",
    "export_order = ['Class', 'HP', 'Str', 'Mag', 'Skl', 'Spd', 'Def', 'Res', 'Wield', 'Tags', 'Rank']\n",
    "export = export[export_order].sort_values('Class')\n",
    "md_table = export.to_markdown(index=0)\n",
    "\n",
    "export.to_csv(f'{game_version}/classes.csv', index=False)\n",
    "open(f'{game_version}/Classes.md', 'w').write(md_table)\n",
    "open(f'{secrets[\"ObsidianRoot\"]}/{game_version}/Classes.md', 'w').write(md_table)\n",
    "print(md_table)"
   ]
  },
  {
   "attachments": {},
   "cell_type": "markdown",
   "metadata": {},
   "source": [
    "# Engage Classes"
   ]
  },
  {
   "cell_type": "code",
   "execution_count": 2,
   "metadata": {},
   "outputs": [
    {
     "name": "stdout",
     "output_type": "stream",
     "text": [
      "      HP   Str   Mag   Dex   Spd   Def   Res\n",
      "21  0.06   NaN   NaN   NaN   NaN   NaN   NaN\n",
      "23  0.13   NaN   NaN   NaN   NaN   NaN   NaN\n",
      "25  0.42   NaN   NaN   NaN   NaN   NaN   NaN\n",
      "27  0.29   NaN   NaN   NaN   NaN   NaN   NaN\n",
      "29  0.10   NaN   NaN   NaN   NaN   NaN   NaN\n",
      "A    NaN  0.17  0.04  0.10  0.06  0.17  0.04\n",
      "B    NaN  0.29  0.10  0.33  0.17  0.17  0.17\n",
      "C    NaN  0.46  0.04  0.50  0.50  0.35  0.29\n",
      "D    NaN  0.04  0.29  0.08  0.21  0.23  0.35\n",
      "E    NaN  0.04  0.54   NaN  0.06  0.08  0.15\n"
     ]
    },
    {
     "name": "stderr",
     "output_type": "stream",
     "text": [
      "/var/folders/ks/dksml1ms0rg9dk9rjyqpnfdc0000gn/T/ipykernel_2694/3348787622.py:44: UserWarning: Boolean Series key will be reindexed to match DataFrame index.\n",
      "  same_stats = same_stats[export.Class.notnull()]\n"
     ]
    }
   ],
   "source": [
    "engage_raw = pd.read_csv('data/engage_classes.csv', sep='\\s*,\\s*', engine='python')\n",
    "engage_raw['Tags'] = engage_raw['Tags'].fillna('')\n",
    "stats = ['HP', 'Str', \"Mag\", 'Dex', 'Spd', 'Def', 'Res']\n",
    "\n",
    "# Pre rating tuning\n",
    "\n",
    "for col in ['Def']:\n",
    "    engage_raw[col] = engage_raw[col].apply(lambda x: x-12 if x > 50 else x)\n",
    "\n",
    "# Rating generation\n",
    "\n",
    "class_data = engage_raw.loc[(~engage_raw.Unique), ['Class', 'Weapons']]\n",
    "for x in stats:\n",
    "    class_data[x] = pd.cut(engage_raw.loc[(~engage_raw.Unique),x], 5, retbins=True, \n",
    "labels=['E', 'D', 'C', 'B', 'A'])[0]\n",
    "class_data = class_data.merge(engage_raw, on=['Class', 'Weapons'], suffixes=[None, 'Value'])\n",
    "\n",
    "\n",
    "# Export cleansing and tuning\n",
    "\n",
    "export = class_data.copy()\n",
    "export[\"Tags\"] = ((export.Tags + ' ' + export.Weak + ' '+ export.Type).str.strip().str.split(' ')).apply(lambda x: ', '.join(set([y for y in x if y != '—'])))\n",
    "export[\"Tags\"] = export.apply(lambda x: x.Tags if x.Bld < 16 else x.Tags+', Built', axis=1)\n",
    "export[\"Tags\"] = export.Tags.str.replace('Qi,', 'Qi')\n",
    "export['Promoted'] = export.Promoted.map({True:\"Yes\", False:'No'})\n",
    "\n",
    "for x in stats: export[x] = export[x].astype('str')\n",
    "grooms = pd.read_csv('data/engage_class_groom.csv', sep='\\s*,\\s*', engine='python')\n",
    "for i, x in grooms.iterrows():\n",
    "    export.loc[export.Class.str.contains(x.Class), stats] = list(x.loc[stats])\n",
    "\n",
    "base_hp = 25\n",
    "HP_factor = 2\n",
    "export['Total'] = export[stats].apply(lambda x: x.map({'-':0, 'E':1, 'D':2, 'C':3, 'B':4, \n",
    "'A':5})).sum(axis=1)\n",
    "export['HP'] = export['HP'].map({'E':base_hp-(2*HP_factor), 'D':base_hp-(HP_factor), 'C':base_hp, 'B':base_hp+HP_factor, 'A':base_hp+(2*HP_factor)})\n",
    "\n",
    "export_order = ['Class', 'HP', 'Str', 'Mag', 'Dex', 'Spd', 'Def', 'Res', 'Proficencies', 'Tags', 'Promoted', 'Total']\n",
    "export = export.rename({'Weapons':\"Proficencies\"}, axis=1)\n",
    "export = export[export_order].sort_values(['Promoted','Class'])\n",
    "md_table = export.to_markdown(index=0)\n",
    "\n",
    "same_stats = export.groupby(stats)['Class'].apply(','.join).reset_index()\n",
    "same_stats = same_stats[export.Class.notnull()]\n",
    "same_stats['Count'] = same_stats.Class.str.count(',')+1\n",
    "\n",
    "# ---\n",
    "\n",
    "# class_data\n",
    "# print(class_data.sort_values(['Def']).reset_index(drop=True))\n",
    "print((export[stats].agg(pd.value_counts)/52).round(2))\n",
    "# same_stats\n",
    "# export#[export.Promoted == 'No']\n"
   ]
  },
  {
   "cell_type": "code",
   "execution_count": 5,
   "metadata": {},
   "outputs": [
    {
     "data": {
      "text/plain": [
       "8099"
      ]
     },
     "execution_count": 5,
     "metadata": {},
     "output_type": "execute_result"
    }
   ],
   "source": [
    "os.makedirs(f'{secrets[\"ObsidianRoot\"]}/{game_version}', exist_ok=True)\n",
    "export.to_csv(f'{game_version}/classes_engage.csv', index=False)\n",
    "open(f'{game_version}/Classes.md', 'w').write(md_table)\n",
    "open(f'{secrets[\"ObsidianRoot\"]}/{game_version}/Classes.md', 'w').write(md_table)\n",
    "# print(md_table)"
   ]
  },
  {
   "cell_type": "code",
   "execution_count": null,
   "metadata": {},
   "outputs": [],
   "source": [
    "dam, defn = 4, 0\n",
    "df = pd.DataFrame()\n",
    "for x, r in zip(range(dam, dam+8), 'FEDCBAS'):\n",
    "    for x2, r2 in zip(range(defn, defn+8), 'FEDCBAS'):\n",
    "        df.loc[r, r2] = x-x2\n",
    "df = df.astype('int').clip(lower=0, upper=8)"
   ]
  }
 ],
 "metadata": {
  "kernelspec": {
   "display_name": "base",
   "language": "python",
   "name": "python3"
  },
  "language_info": {
   "codemirror_mode": {
    "name": "ipython",
    "version": 3
   },
   "file_extension": ".py",
   "mimetype": "text/x-python",
   "name": "python",
   "nbconvert_exporter": "python",
   "pygments_lexer": "ipython3",
   "version": "3.9.12"
  },
  "orig_nbformat": 4,
  "vscode": {
   "interpreter": {
    "hash": "1a61177d1f618363753673e11bb94be513ebb39dbb942f042b1d2d2213094eed"
   }
  }
 },
 "nbformat": 4,
 "nbformat_minor": 2
}
